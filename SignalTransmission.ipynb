{
  "nbformat": 4,
  "nbformat_minor": 0,
  "metadata": {
    "colab": {
      "name": "SignalTransmission.ipynb",
      "provenance": [],
      "authorship_tag": "ABX9TyMl0xOeMBHd28wD3jfO0/ge",
      "include_colab_link": true
    },
    "kernelspec": {
      "name": "python3",
      "display_name": "Python 3"
    },
    "language_info": {
      "name": "python"
    }
  },
  "cells": [
    {
      "cell_type": "markdown",
      "metadata": {
        "id": "view-in-github",
        "colab_type": "text"
      },
      "source": [
        "<a href=\"https://colab.research.google.com/github/hjn14133/DSP/blob/main/SignalTransmission.ipynb\" target=\"_parent\"><img src=\"https://colab.research.google.com/assets/colab-badge.svg\" alt=\"Open In Colab\"/></a>"
      ]
    },
    {
      "cell_type": "markdown",
      "metadata": {
        "id": "qpkI4rSCg3s3"
      },
      "source": [
        "Analog vs Digital Transmission\n",
        "In this notebook we will explore the potential advantages of digital transmission over analog transmission. We will consider the case of transmission over a long (e.g. transoceanic) cable in which several repeaters are used to compensate for the attenuation introduced by the transmission.\n",
        "\n",
        "Remember that if each cable segment introduces an attenuation of  1/G , we can recover the original amplitude by boosting the signal with a repeater with gain  GG . However, if the signal has accumulated additive noise, the noise will be amplified as well so that, after  N  repeaters, the noise will have been amplified  N  times:\n",
        "\n",
        "x̂ N(t)=x(t)+NGσ(t)\n",
        " \n",
        "If we use a digital signal, on the other hand, we can threshold the signal after each repeater and virtually eliminate the noise at each stage, so that even after several repeaters the trasmission is still noise-free."
      ]
    },
    {
      "cell_type": "code",
      "metadata": {
        "id": "T3IE2MU3g4WY"
      },
      "source": [
        "%matplotlib inline\n",
        "import matplotlib\n",
        "import matplotlib.pyplot as plt\n",
        "import numpy as np\n",
        "import IPython\n",
        "from scipy.io import wavfile"
      ],
      "execution_count": 3,
      "outputs": []
    },
    {
      "cell_type": "code",
      "metadata": {
        "id": "ovXhBaNyhlLH"
      },
      "source": [
        "plt.rcParams[\"figure.figsize\"] = (14,4)\n"
      ],
      "execution_count": 5,
      "outputs": []
    },
    {
      "cell_type": "code",
      "metadata": {
        "id": "wTTkqeRdh-lR"
      },
      "source": [
        "rate, s = wavfile.read('speech.wav')\n",
        "plt.plot(s);\n",
        "IPython.display.Audio(s, rate=rate)"
      ],
      "execution_count": null,
      "outputs": []
    },
    {
      "cell_type": "code",
      "metadata": {
        "id": "_d5rmx6miEgh"
      },
      "source": [
        "# The Analog and Digital Signals\n",
        "# analog audio signals - simulation - floating point values - [-100, 100] \n",
        "\n",
        "norm = 1.0 / max(np.absolute([min(s), max(s)]))\n",
        "\n",
        "sA = 100.0 * s * norm\n",
        "\n",
        "# digital version\n",
        "sD = np.round(sA)"
      ],
      "execution_count": null,
      "outputs": []
    },
    {
      "cell_type": "code",
      "metadata": {
        "id": "BatAO2yUk9cA"
      },
      "source": [
        "plt.plot(sA-sD);"
      ],
      "execution_count": null,
      "outputs": []
    },
    {
      "cell_type": "code",
      "metadata": {
        "id": "93JUonvolA2w"
      },
      "source": [
        "# we will be computing SNRs later as well, so let's define a function\n",
        "def SNR(noisy, original):\n",
        "    # power of the error\n",
        "    err = np.linalg.norm(original-noisy)\n",
        "    # power of the signal\n",
        "    sig = np.linalg.norm(original)\n",
        "    # SNR in dBs\n",
        "    return 10 * np.log10(sig/err)\n",
        "    \n",
        "    \n",
        "print ('SNR = %f dB' % SNR(sD, sA))"
      ],
      "execution_count": null,
      "outputs": []
    },
    {
      "cell_type": "code",
      "metadata": {
        "id": "AYERvwl3lEia"
      },
      "source": [
        "IPython.display.Audio(sA, rate=rate)"
      ],
      "execution_count": null,
      "outputs": []
    },
    {
      "cell_type": "code",
      "metadata": {
        "id": "DVIu5vzSlVFE"
      },
      "source": [
        "IPython.display.Audio(sD, rate=rate)"
      ],
      "execution_count": null,
      "outputs": []
    },
    {
      "cell_type": "code",
      "metadata": {
        "id": "UvkVwTE-lWV9"
      },
      "source": [
        "# Transmission with attenuation and noise - repeater \n",
        "def repeater(x, noise_amplitude, attenuation):\n",
        "    # first, create the noise\n",
        "    noise = np.random.uniform(-noise_amplitude, noise_amplitude, len(x))\n",
        "    # attenuation\n",
        "    x = x * attenuation\n",
        "    # noise\n",
        "    x = x + noise\n",
        "    # gain compensation\n",
        "    return x / attenuation"
      ],
      "execution_count": null,
      "outputs": []
    },
    {
      "cell_type": "code",
      "metadata": {
        "id": "F08SI_7yllNV"
      },
      "source": [
        "# repeater for analog signals\n",
        "def analog_tx(x, num_repeaters, noise_amplitude, attenuation):\n",
        "    for n in range(0, num_repeaters):\n",
        "        x = repeater(x, noise_amplitude, attenuation)\n",
        "    return x"
      ],
      "execution_count": null,
      "outputs": []
    },
    {
      "cell_type": "code",
      "metadata": {
        "id": "O1bkENJtls3e"
      },
      "source": [
        "# repeater for digital signals\n",
        "def digital_tx(x, num_repeaters, noise_amplitude, attenuation):\n",
        "    for n in range(0, num_repeaters):\n",
        "        x = np.round(repeater(x, noise_amplitude, attenuation))\n",
        "    return x"
      ],
      "execution_count": null,
      "outputs": []
    },
    {
      "cell_type": "code",
      "metadata": {
        "id": "5ZSRhpjklx19"
      },
      "source": [
        "# Compare tranmission schemes\n",
        "NUM_REPEATERS = 70\n",
        "NOISE_AMPLITUDE = 0.2\n",
        "ATTENUATION = 0.5\n",
        "\n",
        "yA = analog_tx(sA, NUM_REPEATERS, NOISE_AMPLITUDE, ATTENUATION)\n",
        "print ('Analog trasmission: SNR = %f dB' % SNR(yA, sA))    \n",
        "\n",
        "yD = digital_tx(sD, NUM_REPEATERS, NOISE_AMPLITUDE, ATTENUATION)\n",
        "print ('Digital trasmission: SNR = %f dB' % SNR(yD, sA))    "
      ],
      "execution_count": null,
      "outputs": []
    },
    {
      "cell_type": "code",
      "metadata": {
        "id": "gHFjbl_4l3xe"
      },
      "source": [
        "IPython.display.Audio(yA, rate=rate)"
      ],
      "execution_count": null,
      "outputs": []
    },
    {
      "cell_type": "code",
      "metadata": {
        "id": "D1hB5cwfmCUi"
      },
      "source": [
        "IPython.display.Audio(yD, rate=rate)"
      ],
      "execution_count": null,
      "outputs": []
    },
    {
      "cell_type": "code",
      "metadata": {
        "id": "jQmf_hQZmKjR"
      },
      "source": [
        "# if noise amp exceeds a certain values, digital transmission can be worse than analog one\n",
        "NOISE_AMPLITUDE = 0.3\n",
        "\n",
        "yA = analog_tx(sA, NUM_REPEATERS, NOISE_AMPLITUDE, ATTENUATION)\n",
        "print ('Analog trasmission: SNR = %f dB' % SNR(yA, sA))   \n",
        "\n",
        "yD = digital_tx(sD, NUM_REPEATERS, NOISE_AMPLITUDE, ATTENUATION)\n",
        "print ('Digital trasmission: SNR = %f dB' % SNR(yD, sA))   "
      ],
      "execution_count": null,
      "outputs": []
    }
  ]
}